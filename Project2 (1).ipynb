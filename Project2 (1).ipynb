{
 "cells": [
  {
   "cell_type": "markdown",
   "id": "f1f3d8eb",
   "metadata": {},
   "source": [
    "# Background and problem definition"
   ]
  },
  {
   "cell_type": "markdown",
   "id": "76b56da0",
   "metadata": {},
   "source": [
    "We want to determine the best multiple variable model to best predict the 1/4 mile time using Miles per gallon(mpg), Displacement(disp), gross horsepower(hp), rear axle ratio(drat), and weight(wt). From that information, we make a final multilinear regression model."
   ]
  },
  {
   "cell_type": "markdown",
   "id": "83e61c6c",
   "metadata": {},
   "source": [
    "## Setup"
   ]
  },
  {
   "cell_type": "markdown",
   "id": "e7a3142e",
   "metadata": {},
   "source": [
    "I will be using the mtcars dataset from Kaggle (https://www.kaggle.com/datasets/ruiromanini/mtcars?resource=download)."
   ]
  },
  {
   "cell_type": "markdown",
   "id": "cfed57b1",
   "metadata": {},
   "source": [
    "### Libraries"
   ]
  },
  {
   "cell_type": "code",
   "execution_count": 1,
   "id": "03dcc123",
   "metadata": {},
   "outputs": [],
   "source": [
    "#These libraries were imported for the project\n",
    "import matplotlib.pyplot as plt\n",
    "import numpy as np\n",
    "import pandas as pd\n",
    "import seaborn as sns\n",
    "from sklearn.linear_model import LinearRegression\n",
    "import matplotlib.pyplot as plt\n",
    "import statsmodels.api as sm\n",
    "from statsmodels.stats.outliers_influence import variance_inflation_factor\n",
    "import statsmodels.formula.api as smf\n",
    "from sklearn.preprocessing import PolynomialFeatures\n",
    "import warnings\n",
    "warnings.filterwarnings(\"ignore\")"
   ]
  },
  {
   "cell_type": "markdown",
   "id": "18322114",
   "metadata": {},
   "source": [
    "### Dataset"
   ]
  },
  {
   "cell_type": "code",
   "execution_count": 2,
   "id": "b6a851da",
   "metadata": {},
   "outputs": [
    {
     "data": {
      "text/html": [
       "<div>\n",
       "<style scoped>\n",
       "    .dataframe tbody tr th:only-of-type {\n",
       "        vertical-align: middle;\n",
       "    }\n",
       "\n",
       "    .dataframe tbody tr th {\n",
       "        vertical-align: top;\n",
       "    }\n",
       "\n",
       "    .dataframe thead th {\n",
       "        text-align: right;\n",
       "    }\n",
       "</style>\n",
       "<table border=\"1\" class=\"dataframe\">\n",
       "  <thead>\n",
       "    <tr style=\"text-align: right;\">\n",
       "      <th></th>\n",
       "      <th>mpg</th>\n",
       "      <th>disp</th>\n",
       "      <th>hp</th>\n",
       "      <th>drat</th>\n",
       "      <th>wt</th>\n",
       "      <th>qsec</th>\n",
       "    </tr>\n",
       "  </thead>\n",
       "  <tbody>\n",
       "    <tr>\n",
       "      <th>0</th>\n",
       "      <td>21.0</td>\n",
       "      <td>160.0</td>\n",
       "      <td>110</td>\n",
       "      <td>3.90</td>\n",
       "      <td>2.620</td>\n",
       "      <td>16.46</td>\n",
       "    </tr>\n",
       "    <tr>\n",
       "      <th>1</th>\n",
       "      <td>21.0</td>\n",
       "      <td>160.0</td>\n",
       "      <td>110</td>\n",
       "      <td>3.90</td>\n",
       "      <td>2.875</td>\n",
       "      <td>17.02</td>\n",
       "    </tr>\n",
       "    <tr>\n",
       "      <th>2</th>\n",
       "      <td>22.8</td>\n",
       "      <td>108.0</td>\n",
       "      <td>93</td>\n",
       "      <td>3.85</td>\n",
       "      <td>2.320</td>\n",
       "      <td>18.61</td>\n",
       "    </tr>\n",
       "    <tr>\n",
       "      <th>3</th>\n",
       "      <td>21.4</td>\n",
       "      <td>258.0</td>\n",
       "      <td>110</td>\n",
       "      <td>3.08</td>\n",
       "      <td>3.215</td>\n",
       "      <td>19.44</td>\n",
       "    </tr>\n",
       "    <tr>\n",
       "      <th>4</th>\n",
       "      <td>18.7</td>\n",
       "      <td>360.0</td>\n",
       "      <td>175</td>\n",
       "      <td>3.15</td>\n",
       "      <td>3.440</td>\n",
       "      <td>17.02</td>\n",
       "    </tr>\n",
       "  </tbody>\n",
       "</table>\n",
       "</div>"
      ],
      "text/plain": [
       "    mpg   disp   hp  drat     wt   qsec\n",
       "0  21.0  160.0  110  3.90  2.620  16.46\n",
       "1  21.0  160.0  110  3.90  2.875  17.02\n",
       "2  22.8  108.0   93  3.85  2.320  18.61\n",
       "3  21.4  258.0  110  3.08  3.215  19.44\n",
       "4  18.7  360.0  175  3.15  3.440  17.02"
      ]
     },
     "execution_count": 2,
     "metadata": {},
     "output_type": "execute_result"
    }
   ],
   "source": [
    "#Datasets being used\n",
    "data = pd.read_csv(\"mtcars.csv\")\n",
    "data = data[['mpg','disp','hp','drat','wt','qsec']]\n",
    "data.head()"
   ]
  },
  {
   "cell_type": "markdown",
   "id": "9a37da02",
   "metadata": {},
   "source": [
    "## Scatterplot of QSEC VS HP"
   ]
  },
  {
   "cell_type": "code",
   "execution_count": 3,
   "id": "f3939ba8",
   "metadata": {},
   "outputs": [
    {
     "data": {
      "image/png": "[encoded data removed]",
      "text/plain": [
       "<Figure size 640x480 with 1 Axes>"
      ]
     },
     "metadata": {},
     "output_type": "display_data"
    }
   ],
   "source": [
    "sns.set_style(\"whitegrid\")\n",
    "sns.scatterplot(data=data, x=\"hp\", y=\"qsec\")\n",
    "\n",
    "plt.title('Scatterplot of QSEC VS HP')\n",
    "plt.xlabel('Gross Horsepower (HP)')\n",
    "plt.ylabel('Quarter Mile Time (QSEC)')\n",
    "plt.show()"
   ]
  },
  {
   "cell_type": "markdown",
   "id": "da0bbf25",
   "metadata": {},
   "source": [
    "We see a moderate linear relationship between 1/4 mile time(qsec) and gross horsepower(hp) with moderate dispersion in the lower left region."
   ]
  },
  {
   "cell_type": "markdown",
   "id": "21ef2fd7",
   "metadata": {},
   "source": [
    "## Scatterplot of QSEC VS WT"
   ]
  },
  {
   "cell_type": "code",
   "execution_count": 4,
   "id": "ee869e22",
   "metadata": {},
   "outputs": [
    {
     "data": {
      "image/png": "[encoded data removed]",
      "text/plain": [
       "<Figure size 640x480 with 1 Axes>"
      ]
     },
     "metadata": {},
     "output_type": "display_data"
    }
   ],
   "source": [
    "sns.set_style(\"whitegrid\")\n",
    "sns.scatterplot(data=data, x=\"wt\", y=\"qsec\")\n",
    "\n",
    "plt.title('Scatterplot of QSEC VS WT')\n",
    "plt.xlabel('Weight 1000lbs (WT)')\n",
    "plt.ylabel('Quarter Mile Time (QSEC)')\n",
    "plt.show()"
   ]
  },
  {
   "cell_type": "markdown",
   "id": "84512169",
   "metadata": {},
   "source": [
    "We don't see a clear linear relationship between 1/4 mile time(qsec) and weight(wt) with moderate dispersion on the center left region."
   ]
  },
  {
   "cell_type": "markdown",
   "id": "519579fe",
   "metadata": {},
   "source": [
    "## Scatterplot of QSEC VS DISP"
   ]
  },
  {
   "cell_type": "code",
   "execution_count": 5,
   "id": "7a1dd254",
   "metadata": {},
   "outputs": [
    {
     "data": {
      "image/png": "[encoded data removed]",
      "text/plain": [
       "<Figure size 640x480 with 1 Axes>"
      ]
     },
     "metadata": {},
     "output_type": "display_data"
    }
   ],
   "source": [
    "sns.set_style(\"whitegrid\")\n",
    "sns.scatterplot(data=data, x=\"disp\", y=\"qsec\")\n",
    "\n",
    "plt.title('Scatterplot of QSEC VS DISP')\n",
    "plt.xlabel('Displacement cu.in. (DISP)')\n",
    "plt.ylabel('Quarter Mile Time (QSEC)')\n",
    "plt.show()"
   ]
  },
  {
   "cell_type": "markdown",
   "id": "a16901fa",
   "metadata": {},
   "source": [
    "We see a moderate linera relationship between 1/4 mile time(qsec) and displacement(disp) with moderate dispersion in the left region."
   ]
  },
  {
   "cell_type": "markdown",
   "id": "c616e7b5",
   "metadata": {},
   "source": [
    "## Scatterplot of QSEC VS DRAT"
   ]
  },
  {
   "cell_type": "code",
   "execution_count": 6,
   "id": "55667ec0",
   "metadata": {},
   "outputs": [
    {
     "data": {
      "image/png": "[encoded data removed]",
      "text/plain": [
       "<Figure size 640x480 with 1 Axes>"
      ]
     },
     "metadata": {},
     "output_type": "display_data"
    }
   ],
   "source": [
    "sns.set_style(\"whitegrid\")\n",
    "sns.scatterplot(data=data, x=\"drat\", y=\"qsec\")\n",
    "\n",
    "plt.title('Scatterplot of QSEC VS DRAT')\n",
    "plt.xlabel('Rear Axle Ratio (DRAT)')\n",
    "plt.ylabel('Quarter Mile Time (QSEC)')\n",
    "plt.show()"
   ]
  },
  {
   "cell_type": "markdown",
   "id": "c53568cc",
   "metadata": {},
   "source": [
    "We see no linear relationship between 1/4 mile time(qsec) and rear axle ratio(drat) with random dispersion"
   ]
  },
  {
   "cell_type": "markdown",
   "id": "fda7408f",
   "metadata": {},
   "source": [
    "## Scatterplot of QSEC VS MPG"
   ]
  },
  {
   "cell_type": "code",
   "execution_count": 7,
   "id": "be6dde6d",
   "metadata": {},
   "outputs": [
    {
     "data": {
      "image/png": "[encoded data removed]",
      "text/plain": [
       "<Figure size 640x480 with 1 Axes>"
      ]
     },
     "metadata": {},
     "output_type": "display_data"
    }
   ],
   "source": [
    "sns.set_style(\"whitegrid\")\n",
    "sns.scatterplot(data=data, x=\"mpg\", y=\"qsec\")\n",
    "\n",
    "plt.title('Scatterplot of QSEC VS MPG')\n",
    "plt.xlabel('Mile Per Gallon (MPG)')\n",
    "plt.ylabel('Quarter Mile Time (QSEC)')\n",
    "plt.show()"
   ]
  },
  {
   "cell_type": "markdown",
   "id": "7cee9c28",
   "metadata": {},
   "source": [
    "We can see a slight linear relationship between 1/4 mile time(qsec) and miles per gallon(mpg) with moderate dispersion in the center region."
   ]
  },
  {
   "cell_type": "markdown",
   "id": "4a0a3a16",
   "metadata": {},
   "source": [
    "## Correlation Matrix"
   ]
  },
  {
   "cell_type": "code",
   "execution_count": 8,
   "id": "132cc9da",
   "metadata": {},
   "outputs": [
    {
     "name": "stdout",
     "output_type": "stream",
     "text": [
      "           mpg      disp        hp      drat        wt      qsec\n",
      "mpg   1.000000 -0.847551 -0.776168  0.681172 -0.867659  0.418684\n",
      "disp -0.847551  1.000000  0.790949 -0.710214  0.887980 -0.433698\n",
      "hp   -0.776168  0.790949  1.000000 -0.448759  0.658748 -0.708223\n",
      "drat  0.681172 -0.710214 -0.448759  1.000000 -0.712441  0.091205\n",
      "wt   -0.867659  0.887980  0.658748 -0.712441  1.000000 -0.174716\n",
      "qsec  0.418684 -0.433698 -0.708223  0.091205 -0.174716  1.000000\n"
     ]
    }
   ],
   "source": [
    "print(data.corr())"
   ]
  },
  {
   "cell_type": "markdown",
   "id": "b5569e47",
   "metadata": {},
   "source": [
    "We can see from the correlation matrix, that hp is most significant with disp and wt as runners up."
   ]
  },
  {
   "cell_type": "markdown",
   "id": "8f7fb01a",
   "metadata": {},
   "source": [
    "## Stepwise Regression"
   ]
  },
  {
   "cell_type": "code",
   "execution_count": 9,
   "id": "e02f2479",
   "metadata": {},
   "outputs": [
    {
     "data": {
      "text/html": [
       "<table class=\"simpletable\">\n",
       "<tr>\n",
       "      <td></td>         <th>coef</th>     <th>std err</th>      <th>t</th>      <th>P>|t|</th>  <th>[0.025</th>    <th>0.975]</th>  \n",
       "</tr>\n",
       "<tr>\n",
       "  <th>Intercept</th> <td>   16.5417</td> <td>    3.413</td> <td>    4.847</td> <td> 0.000</td> <td>    9.526</td> <td>   23.557</td>\n",
       "</tr>\n",
       "<tr>\n",
       "  <th>mpg</th>       <td>    0.1086</td> <td>    0.078</td> <td>    1.394</td> <td> 0.175</td> <td>   -0.052</td> <td>    0.269</td>\n",
       "</tr>\n",
       "<tr>\n",
       "  <th>disp</th>      <td>   -0.0081</td> <td>    0.004</td> <td>   -1.842</td> <td> 0.077</td> <td>   -0.017</td> <td>    0.001</td>\n",
       "</tr>\n",
       "<tr>\n",
       "  <th>hp</th>        <td>   -0.0184</td> <td>    0.005</td> <td>   -3.391</td> <td> 0.002</td> <td>   -0.030</td> <td>   -0.007</td>\n",
       "</tr>\n",
       "<tr>\n",
       "  <th>drat</th>      <td>   -0.5790</td> <td>    0.552</td> <td>   -1.049</td> <td> 0.304</td> <td>   -1.713</td> <td>    0.555</td>\n",
       "</tr>\n",
       "<tr>\n",
       "  <th>wt</th>        <td>    1.7928</td> <td>    0.514</td> <td>    3.489</td> <td> 0.002</td> <td>    0.736</td> <td>    2.849</td>\n",
       "</tr>\n",
       "</table>"
      ],
      "text/plain": [
       "<class 'statsmodels.iolib.table.SimpleTable'>"
      ]
     },
     "execution_count": 9,
     "metadata": {},
     "output_type": "execute_result"
    }
   ],
   "source": [
    "model = smf.ols(formula='qsec ~ mpg + disp+ hp+ drat+ wt', data=data).fit()\n",
    "summary = model.summary()\n",
    "summary.tables[1]"
   ]
  },
  {
   "cell_type": "markdown",
   "id": "2e842617",
   "metadata": {},
   "source": [
    "We see that drat is the least significant of 0.304, we will remove drat for the next regression"
   ]
  },
  {
   "cell_type": "code",
   "execution_count": 10,
   "id": "d6fe6d3e",
   "metadata": {},
   "outputs": [
    {
     "data": {
      "text/html": [
       "<table class=\"simpletable\">\n",
       "<tr>\n",
       "      <td></td>         <th>coef</th>     <th>std err</th>      <th>t</th>      <th>P>|t|</th>  <th>[0.025</th>    <th>0.975]</th>  \n",
       "</tr>\n",
       "<tr>\n",
       "  <th>Intercept</th> <td>   14.6935</td> <td>    2.929</td> <td>    5.017</td> <td> 0.000</td> <td>    8.684</td> <td>   20.703</td>\n",
       "</tr>\n",
       "<tr>\n",
       "  <th>mpg</th>       <td>    0.0882</td> <td>    0.076</td> <td>    1.166</td> <td> 0.254</td> <td>   -0.067</td> <td>    0.243</td>\n",
       "</tr>\n",
       "<tr>\n",
       "  <th>disp</th>      <td>   -0.0065</td> <td>    0.004</td> <td>   -1.580</td> <td> 0.126</td> <td>   -0.015</td> <td>    0.002</td>\n",
       "</tr>\n",
       "<tr>\n",
       "  <th>hp</th>        <td>   -0.0202</td> <td>    0.005</td> <td>   -3.928</td> <td> 0.001</td> <td>   -0.031</td> <td>   -0.010</td>\n",
       "</tr>\n",
       "<tr>\n",
       "  <th>wt</th>        <td>    1.8204</td> <td>    0.514</td> <td>    3.540</td> <td> 0.001</td> <td>    0.765</td> <td>    2.875</td>\n",
       "</tr>\n",
       "</table>"
      ],
      "text/plain": [
       "<class 'statsmodels.iolib.table.SimpleTable'>"
      ]
     },
     "execution_count": 10,
     "metadata": {},
     "output_type": "execute_result"
    }
   ],
   "source": [
    "#removed drat\n",
    "model = smf.ols(formula='qsec ~ mpg + disp+ hp + wt', data=data).fit()\n",
    "summary = model.summary()\n",
    "summary.tables[1]"
   ]
  },
  {
   "cell_type": "markdown",
   "id": "8184c892",
   "metadata": {},
   "source": [
    "We see that mpg is the least significant of 0.254, we will remove mpg for the next regression."
   ]
  },
  {
   "cell_type": "code",
   "execution_count": 11,
   "id": "f550a14a",
   "metadata": {},
   "outputs": [
    {
     "data": {
      "text/html": [
       "<table class=\"simpletable\">\n",
       "<tr>\n",
       "      <td></td>         <th>coef</th>     <th>std err</th>      <th>t</th>      <th>P>|t|</th>  <th>[0.025</th>    <th>0.975]</th>  \n",
       "</tr>\n",
       "<tr>\n",
       "  <th>Intercept</th> <td>   17.9651</td> <td>    0.850</td> <td>   21.144</td> <td> 0.000</td> <td>   16.225</td> <td>   19.706</td>\n",
       "</tr>\n",
       "<tr>\n",
       "  <th>disp</th>      <td>   -0.0066</td> <td>    0.004</td> <td>   -1.590</td> <td> 0.123</td> <td>   -0.015</td> <td>    0.002</td>\n",
       "</tr>\n",
       "<tr>\n",
       "  <th>hp</th>        <td>   -0.0230</td> <td>    0.005</td> <td>   -4.986</td> <td> 0.000</td> <td>   -0.032</td> <td>   -0.014</td>\n",
       "</tr>\n",
       "<tr>\n",
       "  <th>wt</th>        <td>    1.4853</td> <td>    0.429</td> <td>    3.461</td> <td> 0.002</td> <td>    0.606</td> <td>    2.364</td>\n",
       "</tr>\n",
       "</table>"
      ],
      "text/plain": [
       "<class 'statsmodels.iolib.table.SimpleTable'>"
      ]
     },
     "execution_count": 11,
     "metadata": {},
     "output_type": "execute_result"
    }
   ],
   "source": [
    "#removed mpg\n",
    "model = smf.ols(formula='qsec ~ disp + hp + wt', data=data).fit()\n",
    "summary = model.summary()\n",
    "summary.tables[1]"
   ]
  },
  {
   "cell_type": "markdown",
   "id": "486f63f0",
   "metadata": {},
   "source": [
    "We see that disp is the least significant of 0.123, we will remove disp for the next regression."
   ]
  },
  {
   "cell_type": "code",
   "execution_count": 12,
   "id": "8baf22e6",
   "metadata": {},
   "outputs": [
    {
     "data": {
      "text/html": [
       "<table class=\"simpletable\">\n",
       "<tr>\n",
       "      <td></td>         <th>coef</th>     <th>std err</th>      <th>t</th>      <th>P>|t|</th>  <th>[0.025</th>    <th>0.975]</th>  \n",
       "</tr>\n",
       "<tr>\n",
       "  <th>Intercept</th> <td>   18.8256</td> <td>    0.672</td> <td>   28.020</td> <td> 0.000</td> <td>   17.451</td> <td>   20.200</td>\n",
       "</tr>\n",
       "<tr>\n",
       "  <th>hp</th>        <td>   -0.0273</td> <td>    0.004</td> <td>   -7.197</td> <td> 0.000</td> <td>   -0.035</td> <td>   -0.020</td>\n",
       "</tr>\n",
       "<tr>\n",
       "  <th>wt</th>        <td>    0.9415</td> <td>    0.266</td> <td>    3.541</td> <td> 0.001</td> <td>    0.398</td> <td>    1.485</td>\n",
       "</tr>\n",
       "</table>"
      ],
      "text/plain": [
       "<class 'statsmodels.iolib.table.SimpleTable'>"
      ]
     },
     "execution_count": 12,
     "metadata": {},
     "output_type": "execute_result"
    }
   ],
   "source": [
    "#removed disp\n",
    "model = smf.ols(formula='qsec ~ hp + wt', data=data).fit()\n",
    "summary = model.summary()\n",
    "summary.tables[1]"
   ]
  },
  {
   "cell_type": "markdown",
   "id": "5c97d861",
   "metadata": {},
   "source": [
    "From the stepwise regression we are left with hp(gross horsepower) and wt(weight)."
   ]
  },
  {
   "cell_type": "markdown",
   "id": "d10c3544",
   "metadata": {},
   "source": [
    "## Interaction Terms"
   ]
  },
  {
   "cell_type": "code",
   "execution_count": 13,
   "id": "47c6f34d",
   "metadata": {},
   "outputs": [],
   "source": [
    "y = data['qsec']\n",
    "df2 = pd.DataFrame(data, columns=['hp', 'wt'])\n",
    "interaction = PolynomialFeatures(degree=2, include_bias=False, interaction_only=True)\n",
    "df_interaction = interaction.fit_transform(df2)\n",
    "df_interaction = pd.DataFrame(df_interaction, columns=interaction.get_feature_names(df2.columns))"
   ]
  },
  {
   "cell_type": "code",
   "execution_count": 14,
   "id": "019ed4a7",
   "metadata": {},
   "outputs": [
    {
     "name": "stdout",
     "output_type": "stream",
     "text": [
      "                            OLS Regression Results                            \n",
      "==============================================================================\n",
      "Dep. Variable:                   qsec   R-squared:                       0.652\n",
      "Model:                            OLS   Adj. R-squared:                  0.615\n",
      "Method:                 Least Squares   F-statistic:                     17.49\n",
      "Date:                Sat, 29 Apr 2023   Prob (F-statistic):           1.36e-06\n",
      "Time:                        17:52:35   Log-Likelihood:                -46.584\n",
      "No. Observations:                  32   AIC:                             101.2\n",
      "Df Residuals:                      28   BIC:                             107.0\n",
      "Df Model:                           3                                         \n",
      "Covariance Type:            nonrobust                                         \n",
      "==============================================================================\n",
      "                 coef    std err          t      P>|t|      [0.025      0.975]\n",
      "------------------------------------------------------------------------------\n",
      "const         18.8766      1.857     10.163      0.000      15.072      22.681\n",
      "hp            -0.0277      0.013     -2.174      0.038      -0.054      -0.002\n",
      "wt             0.9239      0.654      1.412      0.169      -0.416       2.264\n",
      "hp wt          0.0001      0.004      0.030      0.977      -0.008       0.008\n",
      "==============================================================================\n",
      "Omnibus:                       15.762   Durbin-Watson:                   1.918\n",
      "Prob(Omnibus):                  0.000   Jarque-Bera (JB):               21.634\n",
      "Skew:                           1.207   Prob(JB):                     2.01e-05\n",
      "Kurtosis:                       6.225   Cond. No.                     6.35e+03\n",
      "==============================================================================\n",
      "\n",
      "Notes:\n",
      "[1] Standard Errors assume that the covariance matrix of the errors is correctly specified.\n",
      "[2] The condition number is large, 6.35e+03. This might indicate that there are\n",
      "strong multicollinearity or other numerical problems.\n"
     ]
    }
   ],
   "source": [
    "def interactionReg():\n",
    "    x = df_interaction[['hp','wt','hp wt']]\n",
    "    x = sm.add_constant(x)\n",
    "    results = sm.OLS(y, x).fit()\n",
    "    print(results.summary())\n",
    "interactionReg()"
   ]
  },
  {
   "cell_type": "markdown",
   "id": "cdfe3224",
   "metadata": {},
   "source": [
    "Based on the interaction term results, 'hp wt' will not be used as it is above 0.05."
   ]
  },
  {
   "cell_type": "markdown",
   "id": "fdb33269",
   "metadata": {},
   "source": [
    "## Quadratic Term"
   ]
  },
  {
   "cell_type": "code",
   "execution_count": 16,
   "id": "bfe011d7",
   "metadata": {},
   "outputs": [],
   "source": [
    "df2 = pd.DataFrame(data, columns=['hp', 'wt'])\n",
    "interaction = PolynomialFeatures(degree=2, include_bias=False)\n",
    "df_interaction = interaction.fit_transform(df2)\n",
    "df_interaction = pd.DataFrame(df_interaction, columns=interaction.get_feature_names(df2.columns))\n",
    "#print(df_interaction)"
   ]
  },
  {
   "cell_type": "code",
   "execution_count": 17,
   "id": "98763af5",
   "metadata": {},
   "outputs": [
    {
     "name": "stdout",
     "output_type": "stream",
     "text": [
      "                            OLS Regression Results                            \n",
      "==============================================================================\n",
      "Dep. Variable:                   qsec   R-squared:                       0.717\n",
      "Model:                            OLS   Adj. R-squared:                  0.675\n",
      "Method:                 Least Squares   F-statistic:                     17.11\n",
      "Date:                Sat, 29 Apr 2023   Prob (F-statistic):           4.22e-07\n",
      "Time:                        17:52:35   Log-Likelihood:                -43.271\n",
      "No. Observations:                  32   AIC:                             96.54\n",
      "Df Residuals:                      27   BIC:                             103.9\n",
      "Df Model:                           4                                         \n",
      "Covariance Type:            nonrobust                                         \n",
      "==============================================================================\n",
      "                 coef    std err          t      P>|t|      [0.025      0.975]\n",
      "------------------------------------------------------------------------------\n",
      "const         18.8512      1.680     11.222      0.000      15.404      22.298\n",
      "hp            -0.0636      0.015     -4.177      0.000      -0.095      -0.032\n",
      "wt             2.3523      1.083      2.172      0.039       0.131       4.574\n",
      "hp^2        9.358e-05   3.85e-05      2.430      0.022    1.46e-05       0.000\n",
      "wt^2          -0.1486      0.143     -1.037      0.309      -0.443       0.145\n",
      "==============================================================================\n",
      "Omnibus:                       14.091   Durbin-Watson:                   2.209\n",
      "Prob(Omnibus):                  0.001   Jarque-Bera (JB):               19.026\n",
      "Skew:                           1.062   Prob(JB):                     7.39e-05\n",
      "Kurtosis:                       6.124   Cond. No.                     3.79e+05\n",
      "==============================================================================\n",
      "\n",
      "Notes:\n",
      "[1] Standard Errors assume that the covariance matrix of the errors is correctly specified.\n",
      "[2] The condition number is large, 3.79e+05. This might indicate that there are\n",
      "strong multicollinearity or other numerical problems.\n"
     ]
    }
   ],
   "source": [
    "def interactionReg():\n",
    "    x = df_interaction[['hp','wt','hp^2', 'wt^2']]\n",
    "    x = sm.add_constant(x)\n",
    "    results = sm.OLS(y, x).fit()\n",
    "    print(results.summary())\n",
    "interactionReg()"
   ]
  },
  {
   "cell_type": "markdown",
   "id": "48008037",
   "metadata": {},
   "source": [
    "Based on our quadratic term result, wt^2 was insignificant but will keep hp^2 as it was significant."
   ]
  },
  {
   "cell_type": "markdown",
   "id": "30c2754b",
   "metadata": {},
   "source": [
    "## Multicollinearity"
   ]
  },
  {
   "cell_type": "code",
   "execution_count": 18,
   "id": "73348a74",
   "metadata": {},
   "outputs": [
    {
     "name": "stdout",
     "output_type": "stream",
     "text": [
      "  feature        VIF\n",
      "0      hp  10.112755\n",
      "1      wt  10.112755\n"
     ]
    }
   ],
   "source": [
    "X_variables = data[['hp','wt']]\n",
    "vif_data = pd.DataFrame()\n",
    "vif_data[\"feature\"] = X_variables.columns\n",
    "vif_data[\"VIF\"] = [variance_inflation_factor(X_variables.values, i) for i in range(len(X_variables.columns))]\n",
    "print(vif_data)"
   ]
  },
  {
   "cell_type": "markdown",
   "id": "7e61663f",
   "metadata": {},
   "source": [
    "Based on the Variance Inflation Factor, we see that predictor variable is not too high. There is low multicollinearity."
   ]
  },
  {
   "cell_type": "markdown",
   "id": "f411dee1",
   "metadata": {},
   "source": [
    "## Final Model"
   ]
  },
  {
   "cell_type": "markdown",
   "id": "f968d2ae",
   "metadata": {},
   "source": [
    "Our final model is y = 18.8512 -0.0636*x1 + 2.3523*x2 + 9.358e-05*x3"
   ]
  },
  {
   "cell_type": "markdown",
   "id": "5fabaeda",
   "metadata": {},
   "source": [
    "## Quantile-Quantile Plot of Final Model"
   ]
  },
  {
   "cell_type": "code",
   "execution_count": 19,
   "id": "8f9d1252",
   "metadata": {},
   "outputs": [],
   "source": [
    "x = df_interaction[['hp','wt','hp^2']]\n",
    "x = sm.add_constant(x)\n",
    "results = sm.OLS(y, x).fit()"
   ]
  },
  {
   "cell_type": "code",
   "execution_count": 20,
   "id": "6c2ab6e4",
   "metadata": {},
   "outputs": [
    {
     "data": {
      "image/png": "[encoded data removed]",
      "text/plain": [
       "<Figure size 640x480 with 1 Axes>"
      ]
     },
     "metadata": {},
     "output_type": "display_data"
    }
   ],
   "source": [
    "fig = sm.qqplot(results.resid, line='45')\n",
    "plt.show()"
   ]
  },
  {
   "cell_type": "markdown",
   "id": "4400333d",
   "metadata": {},
   "source": [
    "Based on the normal qqplot, we can see that the majority of the data points fall on the line with only a couple outliers on both ends of the graph showing the model is an accurate predictor."
   ]
  },
  {
   "cell_type": "markdown",
   "id": "fb876253",
   "metadata": {},
   "source": [
    "Cites: Romanini, R. (2017, October 19). Mtcars. Kaggle. Retrieved April 29, 2023, from https://www.kaggle.com/datasets/ruiromanini/mtcars?resource=download "
   ]
  }
 ],
 "metadata": {
  "kernelspec": {
   "display_name": "Python 3 (ipykernel)",
   "language": "python",
   "name": "python3"
  },
  "language_info": {
   "codemirror_mode": {
    "name": "ipython",
    "version": 3
   },
   "file_extension": ".py",
   "mimetype": "text/x-python",
   "name": "python",
   "nbconvert_exporter": "python",
   "pygments_lexer": "ipython3",
   "version": "3.9.13"
  }
 },
 "nbformat": 4,
 "nbformat_minor": 5
}
